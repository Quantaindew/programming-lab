{
 "cells": [
  {
   "cell_type": "markdown",
   "id": "26dbb3ec-2c84-4d2a-b137-a6b61d51628b",
   "metadata": {},
   "source": [
    "#### Exercise 2.1\n",
    "\n",
    "Write a function named right_justify that takes a string named s as a parameter and prints the string with enough leading spaces so that the last letter of the string is in column 70 of the display.\n",
    "```\n",
    ">>> right_justify('monty')\n",
    "                                                                 monty\n",
    "```"
   ]
  },
  {
   "cell_type": "code",
   "execution_count": 1,
   "id": "ba47cc12-404e-4d1e-9c1a-f14f0b121c87",
   "metadata": {},
   "outputs": [
    {
     "name": "stdout",
     "output_type": "stream",
     "text": [
      "                                                                 monty\n"
     ]
    }
   ],
   "source": [
    "# Answer for Exercise 2.1\n",
    "\n",
    "def right_justify(s):\n",
    "    spaces = 70 - len(s)\n",
    "    print(' ' * spaces + s)\n",
    "\n",
    "# Example usage\n",
    "right_justify('monty')"
   ]
  },
  {
   "cell_type": "markdown",
   "id": "fc861447-95f3-4050-81a6-21e68064bb2b",
   "metadata": {},
   "source": [
    "#### Question 1\n",
    "\n",
    "Type the given example into a script and test it:\n",
    "\n",
    "def do_twice(f):\n",
    "   f()\n",
    "   f()\n",
    "\n",
    "def print_spam():\n",
    "   print('spam')\n",
    "\n",
    "do_twice(print_spam)"
   ]
  },
  {
   "cell_type": "code",
   "execution_count": 2,
   "id": "01c11233-1c99-4101-9c5e-9d6dd191168e",
   "metadata": {},
   "outputs": [
    {
     "name": "stdout",
     "output_type": "stream",
     "text": [
      "spam\n",
      "spam\n"
     ]
    }
   ],
   "source": [
    "# Answer for Question 1\n",
    "\n",
    "def do_twice(f):\n",
    "    f()\n",
    "    f()\n",
    "\n",
    "def print_spam():\n",
    "    print('spam')\n",
    "\n",
    "do_twice(print_spam)"
   ]
  },
  {
   "cell_type": "markdown",
   "id": "d624b621-7f23-4c36-9c7a-857d8158febf",
   "metadata": {},
   "source": [
    "#### Question 2\n",
    "\n",
    "Modify do_twice so that it takes two arguments, a function object and a value, and calls the function twice, passing the value as an argument."
   ]
  },
  {
   "cell_type": "code",
   "execution_count": 3,
   "id": "93b0587c-a721-4851-bda9-8159e12abbe2",
   "metadata": {},
   "outputs": [],
   "source": [
    "# Answer for Question 2\n",
    "\n",
    "def do_twice(func, value):\n",
    "    func(value)\n",
    "    func(value)"
   ]
  },
  {
   "cell_type": "markdown",
   "id": "d2eb85b5-4514-4078-b8a9-43001bccbf23",
   "metadata": {},
   "source": [
    "#### Question 3\n",
    "\n",
    "Copy the definition of print_twice from earlier in this chapter to your script."
   ]
  },
  {
   "cell_type": "code",
   "execution_count": 4,
   "id": "d52d3bfb-b8fb-48cd-945b-f9108761a50e",
   "metadata": {},
   "outputs": [],
   "source": [
    "# Answer for Question 3\n",
    "\n",
    "def print_twice(bruce):\n",
    "    print(bruce)\n",
    "    print(bruce)"
   ]
  },
  {
   "cell_type": "markdown",
   "id": "5913760e-1992-48c0-8677-246a9446fc2e",
   "metadata": {},
   "source": [
    "#### Question 4\n",
    "\n",
    "Use the modified version of do_twice to call print_twice twice, passing 'spam' as an argument."
   ]
  },
  {
   "cell_type": "code",
   "execution_count": 5,
   "id": "29bc6db5-bd4e-4511-88db-232cf760e139",
   "metadata": {},
   "outputs": [
    {
     "name": "stdout",
     "output_type": "stream",
     "text": [
      "spam\n",
      "spam\n",
      "spam\n",
      "spam\n"
     ]
    }
   ],
   "source": [
    "# Answer for Question 4\n",
    "\n",
    "def do_twice(func, value):\n",
    "    func(value)\n",
    "    func(value)\n",
    "\n",
    "def print_twice(bruce):\n",
    "    print(bruce)\n",
    "    print(bruce)\n",
    "\n",
    "do_twice(print_twice, 'spam')"
   ]
  },
  {
   "cell_type": "markdown",
   "id": "8b9874f7-7ac7-49cf-8986-1c1236a3732c",
   "metadata": {},
   "source": [
    "#### Question 5\n",
    "\n",
    "Define a new function called do_four that takes a function object and a value and calls the function four times, passing the value as a parameter. There should be only two statements in the body of this function, not four."
   ]
  },
  {
   "cell_type": "code",
   "execution_count": 6,
   "id": "74de9e51-a205-47af-8992-4fa5e4bf5619",
   "metadata": {},
   "outputs": [],
   "source": [
    "# Answer for Question 5\n",
    "\n",
    "def do_twice(func, value):\n",
    "    func(value)\n",
    "    func(value)\n",
    "\n",
    "def do_four(func, value):\n",
    "    do_twice(func, value)\n",
    "    do_twice(func, value)"
   ]
  }
 ],
 "metadata": {
  "kernelspec": {
   "display_name": "Python 3 (ipykernel)",
   "language": "python",
   "name": "python3"
  },
  "language_info": {
   "codemirror_mode": {
    "name": "ipython",
    "version": 3
   },
   "file_extension": ".py",
   "mimetype": "text/x-python",
   "name": "python",
   "nbconvert_exporter": "python",
   "pygments_lexer": "ipython3",
   "version": "3.12.4"
  }
 },
 "nbformat": 4,
 "nbformat_minor": 5
}
