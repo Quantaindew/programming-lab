{
 "cells": [
  {
   "cell_type": "markdown",
   "id": "3324caba-2772-499d-a199-16d688f10232",
   "metadata": {},
   "source": [
    "#### Question 1\n",
    "\n",
    "Build this list [0,0] two separate ways."
   ]
  },
  {
   "cell_type": "markdown",
   "id": "0a2d857e-747e-4ca4-84de-7b26db25a159",
   "metadata": {},
   "source": [
    "# Answer for Question 1\n",
    "\n",
    "# Method 1:\n",
    "list1 = [0, 0]\n",
    "\n",
    "# Method 2:\n",
    "list2 = [0] * 2\n",
    "\n",
    "print(list1)\n",
    "print(list2)"
   ]
  },
  {
   "cell_type": "markdown",
   "id": "06660ef2-c662-447c-89a1-a8782f576ee5",
   "metadata": {},
   "source": [
    "#### Question 2\n",
    "\n",
    "Reassign 'hello' in this nested list to say 'goodbye' instead:\n",
    "list3 = [1,2,[3,4,'hello']]"
   ]
  },
  {
   "cell_type": "code",
   "execution_count": 7,
   "id": "4d44cbf9-28e4-4169-94c3-812a3805aaee",
   "metadata": {},
   "outputs": [
    {
     "name": "stdout",
     "output_type": "stream",
     "text": [
      "[1, 2, [3, 4, 'goodbye']]\n"
     ]
    }
   ],
   "source": [
    "# Answer for Question 2\n",
    "\n",
    "list3 = [1,2,[3,4,'hello']]\n",
    "list3[2][2] = 'goodbye'\n",
    "print(list3)"
   ]
  },
  {
   "cell_type": "markdown",
   "id": "d1ab720b-a5e4-44a3-8f75-f5dd12bc3c71",
   "metadata": {},
   "source": [
    "#### Question 3\n",
    "\n",
    "Sort the list below:\n",
    "list4 = [5,3,4,6,1]"
   ]
  },
  {
   "cell_type": "code",
   "execution_count": 8,
   "id": "f280affd-0e7d-4781-bdca-e89706fdebb1",
   "metadata": {},
   "outputs": [
    {
     "name": "stdout",
     "output_type": "stream",
     "text": [
      "[1, 3, 4, 5, 6]\n"
     ]
    }
   ],
   "source": [
    "# Answer for Question 3\n",
    "\n",
    "list4 = [5,3,4,6,1]\n",
    "list4.sort()\n",
    "print(list4)"
   ]
  },
  {
   "cell_type": "markdown",
   "id": "bc6eebb4-5e35-4c62-be51-4a506dcc8d7e",
   "metadata": {},
   "source": [
    "#### Question 4 (Exercise 6.1)\n",
    "\n",
    "Write a function called nested_sum that takes a list of lists of integers and adds up the elements from all of the nested lists. For example:\n",
    "t = [[1, 2], [3], [4, 5, 6]]\n",
    "nested_sum(t)\n",
    "#21"
   ]
  },
  {
   "cell_type": "code",
   "execution_count": 9,
   "id": "a173bb4e-8484-4aea-8514-14c4db081052",
   "metadata": {},
   "outputs": [
    {
     "name": "stdout",
     "output_type": "stream",
     "text": [
      "21\n"
     ]
    }
   ],
   "source": [
    "# Answer for Question 4\n",
    "\n",
    "def nested_sum(t):\n",
    "    return sum(sum(sublist) for sublist in t)\n",
    "\n",
    "# Test the function\n",
    "t = [[1, 2], [3], [4, 5, 6]]\n",
    "result = nested_sum(t)\n",
    "print(result)  # Should print 21"
   ]
  },
  {
   "cell_type": "markdown",
   "id": "b4976ecb-f6df-4b80-ad5f-11807b02ffb0",
   "metadata": {},
   "source": [
    "#### Question 5 (Exercise 6.2)\n",
    "\n",
    "Write a function called cumsum that takes a list of numbers and returns the cumulative sum; that is, a new list where the ith element is the sum of the first i + 1 elements from the original list. For example:\n",
    "t = [1, 2, 3]\n",
    "cumsum(t)\n",
    "#[1, 3, 6]"
   ]
  },
  {
   "cell_type": "code",
   "execution_count": 11,
   "id": "2aa6b4f8-4adb-439a-8af0-0e39eeb33de9",
   "metadata": {},
   "outputs": [
    {
     "name": "stdout",
     "output_type": "stream",
     "text": [
      "[1, 3, 6]\n"
     ]
    }
   ],
   "source": [
    "# Answer for Question 5\n",
    "\n",
    "def cumsum(t):\n",
    "    result = []\n",
    "    total = 0\n",
    "    for num in t:\n",
    "        total += num\n",
    "        result.append(total)\n",
    "    return result\n",
    "\n",
    "# Test the function\n",
    "t = [1, 2, 3]\n",
    "result = cumsum(t)\n",
    "print(result)  # Should print [1, 3, 6]"
   ]
  },
  {
   "cell_type": "markdown",
   "id": "697d96e4-81f5-4080-bde6-2946a80a65d4",
   "metadata": {},
   "source": [
    "#### Question 6.4\n",
    "\n",
    "Write a function called chop that takes a list, modifies it by removing the first and last elements, and returns None. For example:\n",
    "\n",
    "t = [1, 2, 3, 4]\n",
    "chop(t)\n",
    "t\n",
    "[2, 3]"
   ]
  },
  {
   "cell_type": "code",
   "execution_count": 12,
   "id": "34111e78-c621-4aaa-bb23-f18f4e73e55b",
   "metadata": {},
   "outputs": [
    {
     "name": "stdout",
     "output_type": "stream",
     "text": [
      "None\n",
      "[2, 3]\n"
     ]
    }
   ],
   "source": [
    "# Answer for Question 6.4\n",
    "\n",
    "def chop(t):\n",
    "    if len(t) >= 2:\n",
    "        del t[0]\n",
    "        del t[-1]\n",
    "    else:\n",
    "        t.clear()\n",
    "    return None\n",
    "\n",
    "# Test the function\n",
    "t = [1, 2, 3, 4]\n",
    "result = chop(t)\n",
    "print(result)  # Should print None\n",
    "print(t)       # Should print [2, 3]"
   ]
  },
  {
   "cell_type": "markdown",
   "id": "770f81a8-5c34-4d8e-b765-d55bf2a5d864",
   "metadata": {},
   "source": [
    "#### Question 6.5\n",
    "\n",
    "Write a function called is_sorted that takes a list as a parameter and returns True if the list is sorted in ascending order and False otherwise. For example:\n",
    "\n",
    "is_sorted([1, 2, 2])\n",
    "True\n",
    "is_sorted(['b', 'a'])\n",
    "False"
   ]
  },
  {
   "cell_type": "code",
   "execution_count": 14,
   "id": "9d315a17-7efd-494b-85e0-35a77de24c32",
   "metadata": {},
   "outputs": [
    {
     "name": "stdout",
     "output_type": "stream",
     "text": [
      "True\n",
      "False\n"
     ]
    }
   ],
   "source": [
    "# Answer for Question 6.5\n",
    "\n",
    "def is_sorted(t):\n",
    "    return all(t[i] <= t[i+1] for i in range(len(t)-1))\n",
    "\n",
    "# Test the function\n",
    "print(is_sorted([1, 2, 2]))  # Should print True\n",
    "print(is_sorted(['b', 'a']))  # Should print False"
   ]
  },
  {
   "cell_type": "markdown",
   "id": "24976b7c-671d-4b14-a977-e25144b90a7c",
   "metadata": {},
   "source": [
    "#### Question 1 (Exercise 6.6)\n",
    "\n",
    "Two words are anagrams if you can rearrange the letters from one to spell the other. Write a function called is_anagram that takes two strings and returns True if they are anagrams."
   ]
  },
  {
   "cell_type": "code",
   "execution_count": 15,
   "id": "4080384e-50ef-4164-b6d8-0679bb36f557",
   "metadata": {},
   "outputs": [
    {
     "name": "stdout",
     "output_type": "stream",
     "text": [
      "True\n",
      "False\n"
     ]
    }
   ],
   "source": [
    "# Answer for Question 1\n",
    "\n",
    "def is_anagram(str1, str2):\n",
    "    # Remove spaces and convert to lowercase\n",
    "    str1 = str1.replace(\" \", \"\").lower()\n",
    "    str2 = str2.replace(\" \", \"\").lower()\n",
    "    \n",
    "    # Check if the sorted strings are equal\n",
    "    return sorted(str1) == sorted(str2)\n",
    "\n",
    "# Test the function\n",
    "print(is_anagram(\"listen\", \"silent\"))  # Should return True\n",
    "print(is_anagram(\"hello\", \"world\"))    # Should return False"
   ]
  },
  {
   "cell_type": "markdown",
   "id": "4f96aae7-1235-4981-a072-532590992285",
   "metadata": {},
   "source": [
    "#### Question 2 (Exercise 6.7)\n",
    "\n",
    "Write a function called has_duplicates that takes a list and returns True if there is any element that appears more than once. It should not modify the original list."
   ]
  },
  {
   "cell_type": "code",
   "execution_count": 16,
   "id": "6c08ae39-6d57-4119-bea1-0f8d78a9e90a",
   "metadata": {},
   "outputs": [
    {
     "name": "stdout",
     "output_type": "stream",
     "text": [
      "False\n",
      "True\n"
     ]
    }
   ],
   "source": [
    "# Answer for Question 2\n",
    "\n",
    "def has_duplicates(lst):\n",
    "    return len(lst) != len(set(lst))\n",
    "\n",
    "# Test the function\n",
    "print(has_duplicates([1, 2, 3, 4, 5]))  # Should return False\n",
    "print(has_duplicates([1, 2, 3, 2, 4]))  # Should return True"
   ]
  }
 ],
 "metadata": {
  "kernelspec": {
   "display_name": "Python 3 (ipykernel)",
   "language": "python",
   "name": "python3"
  },
  "language_info": {
   "codemirror_mode": {
    "name": "ipython",
    "version": 3
   },
   "file_extension": ".py",
   "mimetype": "text/x-python",
   "name": "python",
   "nbconvert_exporter": "python",
   "pygments_lexer": "ipython3",
   "version": "3.12.5"
  }
 },
 "nbformat": 4,
 "nbformat_minor": 5
}
