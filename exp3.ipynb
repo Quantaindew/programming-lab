{
 "cells": [
  {
   "cell_type": "markdown",
   "id": "cb912fc8-bf98-4cb9-8d51-bb2b383f56f3",
   "metadata": {},
   "source": [
    "#### Exercise 3.1\n",
    "\n",
    "Write a script that reads the current time and converts it to a time of day in hours, minutes, and seconds, plus the number of days since the epoch."
   ]
  },
  {
   "cell_type": "code",
   "execution_count": 2,
   "id": "06e3127b-11e4-4b6d-9ae8-f20c985b0811",
   "metadata": {},
   "outputs": [
    {
     "name": "stdout",
     "output_type": "stream",
     "text": [
      "Current time: 17:21:48\n",
      "Days since epoch: 19956\n"
     ]
    }
   ],
   "source": [
    "# Answer for Exercise 3.1\n",
    "\n",
    "import time\n",
    "\n",
    "# Get current time in seconds since epoch\n",
    "current_time = time.time()\n",
    "\n",
    "# Calculate days since epoch\n",
    "days_since_epoch = int(current_time // (24 * 3600))\n",
    "\n",
    "# Calculate remaining seconds\n",
    "seconds_today = current_time % (24 * 3600)\n",
    "\n",
    "# Convert remaining seconds to hours, minutes, and seconds\n",
    "hours = int(seconds_today // 3600)\n",
    "minutes = int((seconds_today % 3600) // 60)\n",
    "seconds = int(seconds_today % 60)\n",
    "\n",
    "# Print the results\n",
    "print(f\"Current time: {hours:02d}:{minutes:02d}:{seconds:02d}\")\n",
    "print(f\"Days since epoch: {days_since_epoch}\")"
   ]
  },
  {
   "cell_type": "markdown",
   "id": "de204749-f9e1-40e5-89ed-5a58477fa972",
   "metadata": {},
   "source": [
    "#### Exercise 3.2"
   ]
  },
  {
   "cell_type": "markdown",
   "id": "772c8f61-03d8-41d5-bb93-18abfdcfe2d7",
   "metadata": {},
   "source": [
    "#### Question 1\n",
    "\n",
    "Write a function named check_fermat that takes four parameters—a, b, c and n—and checks to see if Fermat's theorem holds. If n is greater than 2 and a^n + b^n = c^n, the program should print, \"Fermat was wrong!\" Otherwise the program should print, \"No, that doesn't work.\""
   ]
  },
  {
   "cell_type": "code",
   "execution_count": 3,
   "id": "aa885520-2d04-4964-9dc0-55cac0b257a8",
   "metadata": {},
   "outputs": [
    {
     "name": "stdout",
     "output_type": "stream",
     "text": [
      "No, that doesn't work.\n",
      "No, that doesn't work.\n"
     ]
    }
   ],
   "source": [
    "# Answer for Question 1\n",
    "\n",
    "def check_fermat(a, b, c, n):\n",
    "    if n > 2 and (a**n + b**n == c**n):\n",
    "        print(\"Fermat was wrong!\")\n",
    "    else:\n",
    "        print(\"No, that doesn't work.\")\n",
    "\n",
    "# Test the function\n",
    "check_fermat(3, 4, 5, 2)  # Should print \"No, that doesn't work.\"\n",
    "check_fermat(3, 4, 5, 3)  # Should print \"No, that doesn't work.\""
   ]
  },
  {
   "cell_type": "markdown",
   "id": "ce15deb4-45ae-49e6-82c6-94a964b91a91",
   "metadata": {},
   "source": [
    "#### Question 2\n",
    "\n",
    "Write a function that prompts the user to input values for a, b, c and n, converts them to integers, and uses check_fermat to check whether they violate Fermat's theorem."
   ]
  },
  {
   "cell_type": "code",
   "execution_count": 4,
   "id": "d8f8f392-19be-44e8-b078-ee340dc88324",
   "metadata": {},
   "outputs": [
    {
     "name": "stdin",
     "output_type": "stream",
     "text": [
      "Enter a value for a:  10\n",
      "Enter a value for b:  3\n",
      "Enter a value for c:  4\n",
      "Enter a value for n:  5\n"
     ]
    },
    {
     "name": "stdout",
     "output_type": "stream",
     "text": [
      "No, that doesn't work.\n"
     ]
    }
   ],
   "source": [
    "# Answer for Question 2\n",
    "\n",
    "def fermat_check():\n",
    "    a = int(input(\"Enter a value for a: \"))\n",
    "    b = int(input(\"Enter a value for b: \"))\n",
    "    c = int(input(\"Enter a value for c: \"))\n",
    "    n = int(input(\"Enter a value for n: \"))\n",
    "    \n",
    "    check_fermat(a, b, c, n)\n",
    "\n",
    "# Run the function\n",
    "fermat_check()"
   ]
  },
  {
   "cell_type": "markdown",
   "id": "01502ce7-f0e7-45e6-8f94-94bdea916f99",
   "metadata": {},
   "source": [
    "#### Exercise 3.3"
   ]
  },
  {
   "cell_type": "markdown",
   "id": "86e68f25-466a-44c8-a41f-9210a64a2b41",
   "metadata": {},
   "source": [
    "#### Question 1\n",
    "\n",
    "Write a function named is_triangle that takes three integers as arguments, and that prints either \"Yes\" or \"No\", depending on whether you can or cannot form a triangle from sticks with the given lengths."
   ]
  },
  {
   "cell_type": "code",
   "execution_count": 5,
   "id": "b447263c-61c5-4b57-bbbf-254ccf33966c",
   "metadata": {},
   "outputs": [
    {
     "name": "stdout",
     "output_type": "stream",
     "text": [
      "Yes\n",
      "No\n"
     ]
    }
   ],
   "source": [
    "# Answer for Question 1\n",
    "\n",
    "def is_triangle(a, b, c):\n",
    "    if a + b > c and b + c > a and c + a > b:\n",
    "        print(\"Yes\")\n",
    "    else:\n",
    "        print(\"No\")\n",
    "\n",
    "# Test the function\n",
    "is_triangle(3, 4, 5)  # Should print \"Yes\"\n",
    "is_triangle(1, 1, 12)  # Should print \"No\""
   ]
  },
  {
   "cell_type": "markdown",
   "id": "3f32b32a-ca4c-48de-a988-1165cbe2610c",
   "metadata": {},
   "source": [
    "#### Question 2\n",
    "\n",
    "Write a function that prompts the user to input three stick lengths, converts them to integers, and uses is_triangle to check whether sticks with the given lengths can form a triangle."
   ]
  },
  {
   "cell_type": "code",
   "execution_count": 6,
   "id": "060a4057-6a32-4dca-8415-f0431d0f53cc",
   "metadata": {},
   "outputs": [
    {
     "name": "stdin",
     "output_type": "stream",
     "text": [
      "Enter the length of the first stick:  3\n",
      "Enter the length of the second stick:  4\n",
      "Enter the length of the third stick:  6\n"
     ]
    },
    {
     "name": "stdout",
     "output_type": "stream",
     "text": [
      "Yes\n"
     ]
    }
   ],
   "source": [
    "# Answer for Question 2\n",
    "\n",
    "def check_triangle():\n",
    "    try:\n",
    "        a = int(input(\"Enter the length of the first stick: \"))\n",
    "        b = int(input(\"Enter the length of the second stick: \"))\n",
    "        c = int(input(\"Enter the length of the third stick: \"))\n",
    "        \n",
    "        if a <= 0 or b <= 0 or c <= 0:\n",
    "            print(\"Stick lengths must be positive integers.\")\n",
    "        else:\n",
    "            is_triangle(a, b, c)\n",
    "    except ValueError:\n",
    "        print(\"Invalid input. Please enter integer values.\")\n",
    "\n",
    "# Run the function\n",
    "check_triangle()"
   ]
  }
 ],
 "metadata": {
  "kernelspec": {
   "display_name": "Python 3 (ipykernel)",
   "language": "python",
   "name": "python3"
  },
  "language_info": {
   "codemirror_mode": {
    "name": "ipython",
    "version": 3
   },
   "file_extension": ".py",
   "mimetype": "text/x-python",
   "name": "python",
   "nbconvert_exporter": "python",
   "pygments_lexer": "ipython3",
   "version": "3.12.4"
  }
 },
 "nbformat": 4,
 "nbformat_minor": 5
}
