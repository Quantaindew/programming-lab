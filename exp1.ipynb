{
 "cells": [
  {
   "cell_type": "markdown",
   "id": "57b02f8b-61ca-44b4-888a-72e0a0592547",
   "metadata": {},
   "source": [
    "#### Exercise 1.1.\n"
   ]
  },
  {
   "cell_type": "markdown",
   "id": "81519180-5d19-4a84-a830-606066aa3420",
   "metadata": {},
   "source": [
    "#### Question 1\n",
    "\n",
    "In a print statement, what happens if you leave out one of the parentheses, or both?"
   ]
  },
  {
   "cell_type": "code",
   "execution_count": 1,
   "id": "a5c023ca-2f76-48d7-8bd2-60ed301cd2b6",
   "metadata": {},
   "outputs": [
    {
     "ename": "SyntaxError",
     "evalue": "incomplete input (638019134.py, line 2)",
     "output_type": "error",
     "traceback": [
      "\u001b[0;36m  Cell \u001b[0;32mIn[1], line 2\u001b[0;36m\u001b[0m\n\u001b[0;31m    print(\"Hello, World!\"   # Missing closing parenthesis\u001b[0m\n\u001b[0m                                                         ^\u001b[0m\n\u001b[0;31mSyntaxError\u001b[0m\u001b[0;31m:\u001b[0m incomplete input\n"
     ]
    }
   ],
   "source": [
    "# Answer for Question 1\n",
    "print(\"Hello, World!\"   # Missing closing parenthesis\n"
   ]
  },
  {
   "cell_type": "code",
   "execution_count": 2,
   "id": "79efe6f5-4fe0-4515-96cd-4231c9b7f61c",
   "metadata": {},
   "outputs": [
    {
     "ename": "SyntaxError",
     "evalue": "Missing parentheses in call to 'print'. Did you mean print(...)? (460025192.py, line 1)",
     "output_type": "error",
     "traceback": [
      "\u001b[0;36m  Cell \u001b[0;32mIn[2], line 1\u001b[0;36m\u001b[0m\n\u001b[0;31m    print \"Hello, World!\"   # Missing both parentheses\u001b[0m\n\u001b[0m    ^\u001b[0m\n\u001b[0;31mSyntaxError\u001b[0m\u001b[0;31m:\u001b[0m Missing parentheses in call to 'print'. Did you mean print(...)?\n"
     ]
    }
   ],
   "source": [
    "print \"Hello, World!\"   # Missing both parentheses"
   ]
  },
  {
   "cell_type": "markdown",
   "id": "4a341e8e-d996-4cd6-ac22-2e9f67d4cd6a",
   "metadata": {},
   "source": [
    "#### Question 2\n",
    "\n",
    "If you are trying to print a string, what happens if you leave out one of the quotation marks, or both?"
   ]
  },
  {
   "cell_type": "code",
   "execution_count": 3,
   "id": "66dbd4ab-41ef-430f-8826-b7b5711bb85c",
   "metadata": {},
   "outputs": [
    {
     "ename": "SyntaxError",
     "evalue": "unterminated string literal (detected at line 3) (3569246019.py, line 3)",
     "output_type": "error",
     "traceback": [
      "\u001b[0;36m  Cell \u001b[0;32mIn[3], line 3\u001b[0;36m\u001b[0m\n\u001b[0;31m    print(\"Hello, World!)   # Missing closing quotation mark\u001b[0m\n\u001b[0m          ^\u001b[0m\n\u001b[0;31mSyntaxError\u001b[0m\u001b[0;31m:\u001b[0m unterminated string literal (detected at line 3)\n"
     ]
    }
   ],
   "source": [
    "# Answer for Question 2\n",
    "\n",
    "print(\"Hello, World!)   # Missing closing quotation mark\n"
   ]
  },
  {
   "cell_type": "code",
   "execution_count": 4,
   "id": "782ac09b-6bd0-4441-86a3-1688a52279fb",
   "metadata": {},
   "outputs": [
    {
     "ename": "SyntaxError",
     "evalue": "invalid syntax (1538154236.py, line 1)",
     "output_type": "error",
     "traceback": [
      "\u001b[0;36m  Cell \u001b[0;32mIn[4], line 1\u001b[0;36m\u001b[0m\n\u001b[0;31m    print(Hello, World!)    # Missing both quotation marks\u001b[0m\n\u001b[0m                      ^\u001b[0m\n\u001b[0;31mSyntaxError\u001b[0m\u001b[0;31m:\u001b[0m invalid syntax\n"
     ]
    }
   ],
   "source": [
    "print(Hello, World!)    # Missing both quotation marks"
   ]
  },
  {
   "cell_type": "markdown",
   "id": "d519e4a6-c8d9-449d-b453-3935c861166a",
   "metadata": {},
   "source": [
    "#### Question 3\n",
    "\n",
    "You can use a minus sign to make a negative number like -2. What happens if you put a plus sign before a number? What about 2++2?"
   ]
  },
  {
   "cell_type": "code",
   "execution_count": 5,
   "id": "b43ded9b-78e3-43d2-b5f2-b98fd3a1858e",
   "metadata": {},
   "outputs": [
    {
     "name": "stdout",
     "output_type": "stream",
     "text": [
      "-2\n"
     ]
    }
   ],
   "source": [
    "# Answer for Question 3\n",
    "\n",
    "print(-2)   # Negative number"
   ]
  },
  {
   "cell_type": "code",
   "execution_count": 6,
   "id": "0a650ceb-b68b-473b-aef3-ab4c86e06f51",
   "metadata": {},
   "outputs": [
    {
     "name": "stdout",
     "output_type": "stream",
     "text": [
      "2\n"
     ]
    }
   ],
   "source": [
    "print(+2)   # Positive number (same as 2)"
   ]
  },
  {
   "cell_type": "code",
   "execution_count": 7,
   "id": "a82046b2-2382-4e79-a9d8-b9b898a9575f",
   "metadata": {},
   "outputs": [
    {
     "name": "stdout",
     "output_type": "stream",
     "text": [
      "4\n"
     ]
    }
   ],
   "source": [
    "print(2++2) # Equivalent to 2 + (+2)"
   ]
  },
  {
   "cell_type": "markdown",
   "id": "79b83fb3-28ec-4dea-a674-a7e65fc6f5a7",
   "metadata": {},
   "source": [
    "#### Question 4\n",
    "\n",
    "In math notation, leading zeros are ok, as in 09. What happens if you try this in Python? What about 011?"
   ]
  },
  {
   "cell_type": "code",
   "execution_count": 8,
   "id": "2fd0acfc-dcbd-46b6-9780-ee55365d1ca7",
   "metadata": {},
   "outputs": [
    {
     "ename": "SyntaxError",
     "evalue": "leading zeros in decimal integer literals are not permitted; use an 0o prefix for octal integers (2401531566.py, line 1)",
     "output_type": "error",
     "traceback": [
      "\u001b[0;36m  Cell \u001b[0;32mIn[8], line 1\u001b[0;36m\u001b[0m\n\u001b[0;31m    print(09)  # Syntax error in Python 3\u001b[0m\n\u001b[0m          ^\u001b[0m\n\u001b[0;31mSyntaxError\u001b[0m\u001b[0;31m:\u001b[0m leading zeros in decimal integer literals are not permitted; use an 0o prefix for octal integers\n"
     ]
    }
   ],
   "source": [
    "print(09)  # Syntax error in Python 3"
   ]
  },
  {
   "cell_type": "code",
   "execution_count": 9,
   "id": "770fe8cd-c370-4742-9b3f-fd06522d3178",
   "metadata": {},
   "outputs": [
    {
     "ename": "SyntaxError",
     "evalue": "leading zeros in decimal integer literals are not permitted; use an 0o prefix for octal integers (1986503525.py, line 1)",
     "output_type": "error",
     "traceback": [
      "\u001b[0;36m  Cell \u001b[0;32mIn[9], line 1\u001b[0;36m\u001b[0m\n\u001b[0;31m    print(011) # Octal notation in Python 2, syntax error in Python 3\u001b[0m\n\u001b[0m          ^\u001b[0m\n\u001b[0;31mSyntaxError\u001b[0m\u001b[0;31m:\u001b[0m leading zeros in decimal integer literals are not permitted; use an 0o prefix for octal integers\n"
     ]
    }
   ],
   "source": [
    "print(011) # Octal notation in Python 2, syntax error in Python 3"
   ]
  },
  {
   "cell_type": "markdown",
   "id": "519ac073-e4e2-4fb9-964d-4a4eae5c19f2",
   "metadata": {},
   "source": [
    "#### Question 5\n",
    "\n",
    "What happens if you have two values with no operator between them?"
   ]
  },
  {
   "cell_type": "code",
   "execution_count": 10,
   "id": "4f43223d-2789-457c-b6a3-e69bdab28ec3",
   "metadata": {},
   "outputs": [
    {
     "ename": "SyntaxError",
     "evalue": "invalid syntax. Perhaps you forgot a comma? (3242505175.py, line 3)",
     "output_type": "error",
     "traceback": [
      "\u001b[0;36m  Cell \u001b[0;32mIn[10], line 3\u001b[0;36m\u001b[0m\n\u001b[0;31m    print(2 3)  # SyntaxError\u001b[0m\n\u001b[0m          ^\u001b[0m\n\u001b[0;31mSyntaxError\u001b[0m\u001b[0;31m:\u001b[0m invalid syntax. Perhaps you forgot a comma?\n"
     ]
    }
   ],
   "source": [
    "# Answer for Question 5\n",
    "\n",
    "print(2 3)  # SyntaxError"
   ]
  },
  {
   "cell_type": "markdown",
   "id": "eb69df61-b413-41af-b708-cf421016f586",
   "metadata": {},
   "source": [
    "#### Exercise 1.2. Start the Python interpreter and use it as a calculator.\n",
    "\n"
   ]
  },
  {
   "cell_type": "markdown",
   "id": "7ba03c87-49b4-4301-98d3-ffb151880b63",
   "metadata": {},
   "source": [
    "#### Question 1\n",
    "\n",
    "How many seconds are there in 42 minutes 42 seconds?"
   ]
  },
  {
   "cell_type": "code",
   "execution_count": 11,
   "id": "e3c8876f-8460-4a12-aecc-10ddfe81b8ed",
   "metadata": {},
   "outputs": [
    {
     "name": "stdout",
     "output_type": "stream",
     "text": [
      "2562\n"
     ]
    }
   ],
   "source": [
    "# Answer for Question 1\n",
    "\n",
    "minutes = 42\n",
    "seconds = 42\n",
    "\n",
    "total_seconds = (minutes * 60) + seconds\n",
    "print(total_seconds)"
   ]
  },
  {
   "cell_type": "markdown",
   "id": "d282cef3-0e39-4f8d-b2fd-b6442fcc1a5b",
   "metadata": {},
   "source": [
    "#### Question 2\n",
    "\n",
    "How many miles are there in 10 kilometers? (Hint: there are 1.61 kilometers in a mile.)"
   ]
  },
  {
   "cell_type": "code",
   "execution_count": 12,
   "id": "47715dae-eac6-4b8c-b0fc-34946cf98381",
   "metadata": {},
   "outputs": [
    {
     "name": "stdout",
     "output_type": "stream",
     "text": [
      "6.21\n"
     ]
    }
   ],
   "source": [
    "# Answer for Question 2\n",
    "\n",
    "kilometers = 10\n",
    "km_per_mile = 1.61\n",
    "\n",
    "miles = kilometers / km_per_mile\n",
    "print(round(miles, 2))"
   ]
  },
  {
   "cell_type": "markdown",
   "id": "002a8882-1089-4740-b922-97489066ce99",
   "metadata": {},
   "source": [
    "#### Question 3\n",
    "\n",
    "If you run a 10 kilometer race in 42 minutes 42 seconds, what is your average pace (time per mile in minutes and seconds)? What is your average speed in miles per hour?"
   ]
  },
  {
   "cell_type": "code",
   "execution_count": 13,
   "id": "17eabbbd-73a4-475d-bff8-b2afada7aeb0",
   "metadata": {},
   "outputs": [
    {
     "name": "stdout",
     "output_type": "stream",
     "text": [
      "Average pace: 6:52 per mile\n",
      "Average speed: 8.73 mph\n"
     ]
    }
   ],
   "source": [
    "# Answer for Question 3\n",
    "\n",
    "# Convert race distance to miles\n",
    "race_km = 10\n",
    "km_per_mile = 1.61\n",
    "race_miles = race_km / km_per_mile\n",
    "\n",
    "# Convert race time to hours\n",
    "race_minutes = 42\n",
    "race_seconds = 42\n",
    "race_time_hours = (race_minutes + race_seconds / 60) / 60\n",
    "\n",
    "# Calculate average speed in mph\n",
    "avg_speed_mph = race_miles / race_time_hours\n",
    "\n",
    "# Calculate average pace\n",
    "seconds_per_mile = (race_minutes * 60 + race_seconds) / race_miles\n",
    "pace_minutes = int(seconds_per_mile // 60)\n",
    "pace_seconds = int(seconds_per_mile % 60)\n",
    "\n",
    "print(f\"Average pace: {pace_minutes}:{pace_seconds:02d} per mile\")\n",
    "print(f\"Average speed: {avg_speed_mph:.2f} mph\")"
   ]
  },
  {
   "cell_type": "markdown",
   "id": "a8f90cff-0991-40c7-a38f-ff90737abe4f",
   "metadata": {},
   "source": [
    "#### Exercise 1.3. Try it out every new feature and make errors on purpose to see what goes wrong.\n"
   ]
  },
  {
   "cell_type": "markdown",
   "id": "74787756-524a-4c96-a546-5d402f06c79e",
   "metadata": {},
   "source": [
    "#### Question 1\n",
    "\n",
    "We've seen that n = 42 is legal. What about 42 = n? How about x = y = 1?"
   ]
  },
  {
   "cell_type": "code",
   "execution_count": 14,
   "id": "4ee40c1d-c38a-4eb8-8092-9995acebcb6d",
   "metadata": {},
   "outputs": [
    {
     "ename": "SyntaxError",
     "evalue": "cannot assign to literal here. Maybe you meant '==' instead of '='? (2935850188.py, line 9)",
     "output_type": "error",
     "traceback": [
      "\u001b[0;36m  Cell \u001b[0;32mIn[14], line 9\u001b[0;36m\u001b[0m\n\u001b[0;31m    42 = n\u001b[0m\n\u001b[0m    ^\u001b[0m\n\u001b[0;31mSyntaxError\u001b[0m\u001b[0;31m:\u001b[0m cannot assign to literal here. Maybe you meant '==' instead of '='?\n"
     ]
    }
   ],
   "source": [
    "# Answer for Question 1\n",
    "\n",
    "# Legal assignment\n",
    "n = 42\n",
    "print(n)\n",
    "\n",
    "# Illegal assignment\n",
    "try:\n",
    "    42 = n\n",
    "except SyntaxError as e:\n",
    "    print(f\"SyntaxError: {e}\")\n",
    "\n",
    "# Multiple assignment\n",
    "x = y = 1\n",
    "print(f\"x = {x}, y = {y}\")"
   ]
  },
  {
   "cell_type": "markdown",
   "id": "098d0e74-0021-4b08-beb6-2731041b73d5",
   "metadata": {},
   "source": [
    "#### Question 2\n",
    "\n",
    "In some languages every statement ends with a semi-colon, ;. What happens if you put a semi-colon at the end of a Python statement?"
   ]
  },
  {
   "cell_type": "code",
   "execution_count": 15,
   "id": "71af85d9-c6f9-4e2a-8585-4df3ee4591b8",
   "metadata": {},
   "outputs": [
    {
     "name": "stdout",
     "output_type": "stream",
     "text": [
      "Hello, World!\n",
      "Hello, World!\n",
      "3\n"
     ]
    }
   ],
   "source": [
    "# Answer for Question 2\n",
    "\n",
    "# Statement without semi-colon\n",
    "print(\"Hello, World!\")\n",
    "\n",
    "# Statement with semi-colon\n",
    "print(\"Hello, World!\");\n",
    "\n",
    "# Multiple statements on one line using semi-colons\n",
    "a = 1; b = 2; print(a + b);"
   ]
  },
  {
   "cell_type": "markdown",
   "id": "9c7b07ce-fda2-4152-9143-6db68505c423",
   "metadata": {},
   "source": [
    "#### Question 3\n",
    "\n",
    "What if you put a period at the end of a statement?"
   ]
  },
  {
   "cell_type": "code",
   "execution_count": 16,
   "id": "b6050480-97f3-4511-a516-ca3d351fd5fc",
   "metadata": {},
   "outputs": [
    {
     "ename": "SyntaxError",
     "evalue": "invalid syntax (3592279128.py, line 8)",
     "output_type": "error",
     "traceback": [
      "\u001b[0;36m  Cell \u001b[0;32mIn[16], line 8\u001b[0;36m\u001b[0m\n\u001b[0;31m    print(\"Hello, World\").\u001b[0m\n\u001b[0m                          ^\u001b[0m\n\u001b[0;31mSyntaxError\u001b[0m\u001b[0;31m:\u001b[0m invalid syntax\n"
     ]
    }
   ],
   "source": [
    "# Answer for Question 3\n",
    "\n",
    "# Normal statement\n",
    "print(\"Hello, World!\")\n",
    "\n",
    "# Statement with a period at the end\n",
    "try:\n",
    "    print(\"Hello, World\").\n",
    "except SyntaxError as e:\n",
    "    print(f\"SyntaxError: {e}\")"
   ]
  },
  {
   "cell_type": "markdown",
   "id": "0846d5e2-da50-48b8-aece-b673c9ef9e67",
   "metadata": {},
   "source": [
    "#### Question 4\n",
    "\n",
    "In math notation you can multiply x and y like this: xy. What happens if you try that in Python?"
   ]
  },
  {
   "cell_type": "code",
   "execution_count": 17,
   "id": "9105b0ef-258a-4944-a339-8d085c8ee22b",
   "metadata": {},
   "outputs": [
    {
     "name": "stdout",
     "output_type": "stream",
     "text": [
      "15\n",
      "NameError: name 'xy' is not defined\n",
      "15\n"
     ]
    }
   ],
   "source": [
    "# Answer for Question 4\n",
    "\n",
    "x = 5\n",
    "y = 3\n",
    "\n",
    "# Correct multiplication in Python\n",
    "print(x * y)\n",
    "\n",
    "# Attempting math notation style multiplication\n",
    "try:\n",
    "    print(xy)\n",
    "except NameError as e:\n",
    "    print(f\"NameError: {e}\")\n",
    "\n",
    "# What Python interprets 'xy' as\n",
    "xy = 15\n",
    "print(xy)"
   ]
  },
  {
   "cell_type": "markdown",
   "id": "0e304779-6101-4aab-ba18-3f67aee9c9d1",
   "metadata": {},
   "source": [
    "#### Exercise 1.4. Practice using the Python interpreter as a calculator:"
   ]
  },
  {
   "cell_type": "markdown",
   "id": "a32c37bb-62a3-4aad-9287-7a3041ec8d72",
   "metadata": {},
   "source": [
    "#### Question 1\n",
    "\n",
    "The volume of a sphere with radius r is 4/3*pi*r^3. What is the volume of a sphere with radius 5?"
   ]
  },
  {
   "cell_type": "code",
   "execution_count": 18,
   "id": "86e86ff9-c592-4080-be19-bb55e3cebefc",
   "metadata": {},
   "outputs": [
    {
     "name": "stdout",
     "output_type": "stream",
     "text": [
      "The volume of a sphere with radius 5 is approximately 523.60 cubic units.\n"
     ]
    }
   ],
   "source": [
    "# Answer for Question 1\n",
    "\n",
    "import math\n",
    "\n",
    "radius = 5\n",
    "volume = (4/3) * math.pi * (radius ** 3)\n",
    "print(f\"The volume of a sphere with radius {radius} is approximately {volume:.2f} cubic units.\")"
   ]
  },
  {
   "cell_type": "markdown",
   "id": "ee9cd029-49f0-4cc5-a39e-388b4922c495",
   "metadata": {},
   "source": [
    "#### Question 2\n",
    "\n",
    "Suppose the cover price of a book is $24.95, but bookstores get a 40% discount. Shipping costs $3 for the first copy and 75 cents for each additional copy. What is the total wholesale cost for 60 copies?"
   ]
  },
  {
   "cell_type": "code",
   "execution_count": 19,
   "id": "57aad659-35a0-4f00-98da-193967f3988a",
   "metadata": {},
   "outputs": [
    {
     "name": "stdout",
     "output_type": "stream",
     "text": [
      "The total wholesale cost for 60 copies is $945.45\n"
     ]
    }
   ],
   "source": [
    "# Answer for Question 2\n",
    "\n",
    "cover_price = 24.95\n",
    "discount = 0.40\n",
    "num_copies = 60\n",
    "\n",
    "book_cost = cover_price * (1 - discount) * num_copies\n",
    "shipping_cost = 3 + (num_copies - 1) * 0.75\n",
    "total_cost = book_cost + shipping_cost\n",
    "\n",
    "print(f\"The total wholesale cost for {num_copies} copies is ${total_cost:.2f}\")"
   ]
  },
  {
   "cell_type": "markdown",
   "id": "5d057749-e02a-4f8f-9e71-b87d6c30298c",
   "metadata": {},
   "source": [
    "#### Question 3\n",
    "\n",
    "If I leave my house at 6:52 am and run 1 mile at an easy pace (8:15 per mile), then 3 miles at tempo (7:12 per mile) and 1 mile at easy pace again, what time do I get home for breakfast?"
   ]
  },
  {
   "cell_type": "code",
   "execution_count": 20,
   "id": "7e8bb6bf-d9cd-4508-812f-e43fad1d1193",
   "metadata": {},
   "outputs": [
    {
     "name": "stdout",
     "output_type": "stream",
     "text": [
      "You will get home at 07:30 AM\n"
     ]
    }
   ],
   "source": [
    "# Answer for Question 3\n",
    "\n",
    "from datetime import datetime, timedelta\n",
    "\n",
    "start_time = datetime(2024, 1, 1, 6, 52)  # Using arbitrary date\n",
    "\n",
    "easy_pace = timedelta(minutes=8, seconds=15)\n",
    "tempo_pace = timedelta(minutes=7, seconds=12)\n",
    "\n",
    "total_time = easy_pace + (tempo_pace * 3) + easy_pace\n",
    "\n",
    "end_time = start_time + total_time\n",
    "\n",
    "print(f\"You will get home at {end_time.strftime('%I:%M %p')}\")"
   ]
  }
 ],
 "metadata": {
  "kernelspec": {
   "display_name": "Python 3 (ipykernel)",
   "language": "python",
   "name": "python3"
  },
  "language_info": {
   "codemirror_mode": {
    "name": "ipython",
    "version": 3
   },
   "file_extension": ".py",
   "mimetype": "text/x-python",
   "name": "python",
   "nbconvert_exporter": "python",
   "pygments_lexer": "ipython3",
   "version": "3.12.4"
  }
 },
 "nbformat": 4,
 "nbformat_minor": 5
}
