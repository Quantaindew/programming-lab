{
 "cells": [
  {
   "cell_type": "markdown",
   "id": "0ee756da-70ed-427f-ba55-11c0da53b74d",
   "metadata": {},
   "source": [
    "#### Exercise 5.1\n",
    "\n",
    "Rewrite the function print_n from the previous experiment, using iteration instead of recursion."
   ]
  },
  {
   "cell_type": "code",
   "execution_count": 1,
   "id": "f40f0032-eae2-4ca0-b43f-d2143467ee1e",
   "metadata": {},
   "outputs": [
    {
     "name": "stdout",
     "output_type": "stream",
     "text": [
      "Hello\n",
      "Hello\n",
      "Hello\n"
     ]
    }
   ],
   "source": [
    "# Answer for Exercise 5.1\n",
    "\n",
    "def print_n(s, n):\n",
    "    for i in range(n):\n",
    "        print(s)\n",
    "\n",
    "# Example usage\n",
    "print_n(\"Hello\", 3)"
   ]
  },
  {
   "cell_type": "markdown",
   "id": "1410dc79-831f-4b17-afe5-5946e85c461d",
   "metadata": {},
   "source": [
    "#### Exercise 5.2\n",
    "\n",
    "Write a function called eval_loop that iteratively prompts the user, takes the resulting input and evaluates it using eval, and prints the result. It should continue until the user enters 'done', and then return the value of the last expression it evaluated."
   ]
  },
  {
   "cell_type": "code",
   "execution_count": 2,
   "id": "16efc2f7-316f-4814-9606-f6e3edd741e1",
   "metadata": {},
   "outputs": [
    {
     "name": "stdin",
     "output_type": "stream",
     "text": [
      "Enter an expression (or 'done' to exit):  hi\n"
     ]
    },
    {
     "name": "stdout",
     "output_type": "stream",
     "text": [
      "Error: name 'hi' is not defined\n"
     ]
    },
    {
     "name": "stdin",
     "output_type": "stream",
     "text": [
      "Enter an expression (or 'done' to exit):  hello\n"
     ]
    },
    {
     "name": "stdout",
     "output_type": "stream",
     "text": [
      "Error: name 'hello' is not defined\n"
     ]
    },
    {
     "name": "stdin",
     "output_type": "stream",
     "text": [
      "Enter an expression (or 'done' to exit):  done\n"
     ]
    },
    {
     "name": "stdout",
     "output_type": "stream",
     "text": [
      "Final result: None\n"
     ]
    }
   ],
   "source": [
    "# Answer for Exercise 5.2\n",
    "\n",
    "def eval_loop():\n",
    "    last_result = None\n",
    "    while True:\n",
    "        user_input = input(\"Enter an expression (or 'done' to exit): \")\n",
    "        if user_input.lower() == 'done':\n",
    "            return last_result\n",
    "        try:\n",
    "            result = eval(user_input)\n",
    "            print(result)\n",
    "            last_result = result\n",
    "        except Exception as e:\n",
    "            print(f\"Error: {e}\")\n",
    "\n",
    "# Example usage\n",
    "print(\"Final result:\", eval_loop())"
   ]
  },
  {
   "cell_type": "markdown",
   "id": "b5ae5185-a5e2-4500-a2f8-f3075ddfb1ed",
   "metadata": {},
   "source": [
    "#### Exercise 5.3\n",
    "\n",
    "Write a function that takes a string as an argument and displays the letters backward, one per line."
   ]
  },
  {
   "cell_type": "code",
   "execution_count": 3,
   "id": "fc026cf1-dfab-40e3-b9ec-2ce6cd50aeb3",
   "metadata": {},
   "outputs": [
    {
     "name": "stdout",
     "output_type": "stream",
     "text": [
      "o\n",
      "l\n",
      "l\n",
      "e\n",
      "H\n"
     ]
    }
   ],
   "source": [
    "# Answer for Exercise 5.3\n",
    "\n",
    "def display_backwards(string):\n",
    "    for char in reversed(string):\n",
    "        print(char)\n",
    "\n",
    "# Example usage\n",
    "display_backwards(\"Hello\")"
   ]
  },
  {
   "cell_type": "markdown",
   "id": "6c191b38-7485-4798-8f33-50a65efc3922",
   "metadata": {},
   "source": [
    "#### Exercise 5.4\n",
    "\n",
    "A string slice can take a third index that specifies the \"step size\"; that is, the number of spaces between successive characters. A step size of 2 means every other character; 3 means every third, etc."
   ]
  },
  {
   "cell_type": "code",
   "execution_count": 5,
   "id": "d1e6c87d-e19d-4cda-9fe4-159980f6eadf",
   "metadata": {},
   "outputs": [
    {
     "name": "stdout",
     "output_type": "stream",
     "text": [
      "bnnsnape\n",
      "basdps\n",
      "selppadnasananab\n",
      "aaaadpls\n"
     ]
    }
   ],
   "source": [
    "# Answer for Exercise 5.4\n",
    "\n",
    "# Example usage of string slicing with step size\n",
    "string = \"bananasandapples\"\n",
    "\n",
    "# Every other character\n",
    "print(string[::2])\n",
    "\n",
    "# Every third character\n",
    "print(string[::3])\n",
    "\n",
    "# Reverse the string\n",
    "print(string[::-1])\n",
    "\n",
    "# Every other character, starting from the second character\n",
    "print(string[1::2])"
   ]
  },
  {
   "cell_type": "markdown",
   "id": "dedcb250-516a-4394-900e-7b0387ce0922",
   "metadata": {},
   "source": [
    "#### Exercise 5.5\n",
    "\n",
    "The following functions are all intended to check whether a string contains any lowercase letters, but at least some of them are wrong. For each function, describe what the function actually does (assuming that the parameter is a string)."
   ]
  },
  {
   "cell_type": "code",
   "execution_count": 6,
   "id": "60f78cc6-586d-45fd-a533-8391e6cd7edc",
   "metadata": {},
   "outputs": [],
   "source": [
    "# Function 1\n",
    "\n",
    "def any_lowercase1(s):\n",
    "    for c in s:\n",
    "        if c.islower():\n",
    "            return True\n",
    "        else:\n",
    "            return False"
   ]
  },
  {
   "cell_type": "markdown",
   "id": "451c5e44-48e3-4b9b-a1a3-fa1bf96d410a",
   "metadata": {},
   "source": [
    "#### Explanation for Function 1\n",
    "\n",
    "This function checks only the first character of the string. If the first character is lowercase, it returns True. If the first character is not lowercase, it returns False. It does not check the rest of the string."
   ]
  },
  {
   "cell_type": "code",
   "execution_count": 8,
   "id": "511e029a-2205-46c4-a069-3fb40b87e527",
   "metadata": {},
   "outputs": [],
   "source": [
    "# Function 2\n",
    "\n",
    "def any_lowercase2(s):\n",
    "    for c in s:\n",
    "        if 'c'.islower():\n",
    "            return 'True'\n",
    "        else:\n",
    "            return 'False'"
   ]
  },
  {
   "cell_type": "markdown",
   "id": "bedb685e-f19c-4c62-8a1b-ce3a0450a78e",
   "metadata": {},
   "source": [
    "#### Explanation for Function 2\n",
    "\n",
    "This function always returns the string 'True' for any input. The condition 'c'.islower() is always True because it's checking if the literal character 'c' is lowercase, which it always is. It doesn't actually check any characters in the input string."
   ]
  },
  {
   "cell_type": "code",
   "execution_count": 9,
   "id": "ff2ebbbb-739a-4484-933c-d9299b775b7d",
   "metadata": {},
   "outputs": [],
   "source": [
    "# Function 3\n",
    "\n",
    "def any_lowercase3(s):\n",
    "    for c in s:\n",
    "        flag = c.islower()\n",
    "    return flag"
   ]
  },
  {
   "cell_type": "markdown",
   "id": "b2405248-618e-4061-a590-d0cfedb45d4f",
   "metadata": {},
   "source": [
    "#### Explanation for Function 3\n",
    "\n",
    "This function checks if the last character of the string is lowercase. It iterates through the entire string, updating the flag each time, but only the status of the last character determines the return value."
   ]
  },
  {
   "cell_type": "code",
   "execution_count": 10,
   "id": "9bb95d18-dab7-44ec-99b5-731135903e4e",
   "metadata": {},
   "outputs": [],
   "source": [
    "# Function 4\n",
    "\n",
    "def any_lowercase4(s):\n",
    "    flag = False\n",
    "    for c in s:\n",
    "        flag = flag or c.islower()\n",
    "    return flag"
   ]
  },
  {
   "cell_type": "markdown",
   "id": "c7338975-6012-4046-bb1c-342b5344d9f4",
   "metadata": {},
   "source": [
    "#### Explanation for Function 4\n",
    "\n",
    "This function correctly checks if the string contains any lowercase letters. It initializes a flag to False and then uses the OR operation to update the flag. If any character is lowercase, the flag becomes True and stays True."
   ]
  },
  {
   "cell_type": "code",
   "execution_count": 11,
   "id": "1c810839-85d3-4429-8ab9-2279e3b1dd9e",
   "metadata": {},
   "outputs": [],
   "source": [
    "# Function 5\n",
    "\n",
    "def any_lowercase5(s):\n",
    "    for c in s:\n",
    "        if not c.islower():\n",
    "            return False\n",
    "    return True"
   ]
  },
  {
   "cell_type": "markdown",
   "id": "bf25ae64-c4f7-47a2-bf88-7253e6aaba49",
   "metadata": {},
   "source": [
    "#### Explanation for Function 5\n",
    "\n",
    "This function checks if all characters in the string are lowercase. It returns False as soon as it encounters any non-lowercase character. It only returns True if it has checked all characters and found them all to be lowercase."
   ]
  }
 ],
 "metadata": {
  "kernelspec": {
   "display_name": "Python 3 (ipykernel)",
   "language": "python",
   "name": "python3"
  },
  "language_info": {
   "codemirror_mode": {
    "name": "ipython",
    "version": 3
   },
   "file_extension": ".py",
   "mimetype": "text/x-python",
   "name": "python",
   "nbconvert_exporter": "python",
   "pygments_lexer": "ipython3",
   "version": "3.12.5"
  }
 },
 "nbformat": 4,
 "nbformat_minor": 5
}
