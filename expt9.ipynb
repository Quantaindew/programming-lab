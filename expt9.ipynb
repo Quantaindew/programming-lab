{
 "cells": [
  {
   "cell_type": "markdown",
   "id": "9a952e7f-90b8-41d9-bef9-1c0f4144f407",
   "metadata": {},
   "source": [
    "#### Question 1\n",
    "\n",
    "Write Python code to create a NumPy array called \"salary_array\" to store the salaries of five employees. Print the data."
   ]
  },
  {
   "cell_type": "code",
   "execution_count": 1,
   "id": "43dd2418-e84f-42f8-97b2-c67e57f8b0f0",
   "metadata": {},
   "outputs": [
    {
     "name": "stdout",
     "output_type": "stream",
     "text": [
      "[60000 75000 80000 90000 85000]\n"
     ]
    }
   ],
   "source": [
    "# Answer for Question 1\n",
    "\n",
    "import numpy as np\n",
    "list = [60000, 75000, 80000, 90000, 85000]\n",
    "salary_array = np.array(list)\n",
    "print(salary_array)"
   ]
  },
  {
   "cell_type": "markdown",
   "id": "e156a676-5478-43a0-8339-2e7637f9419a",
   "metadata": {},
   "source": [
    "#### Question 2\n",
    "\n",
    "Write Python code to create a 2D NumPy array called \"department_salaries\" that stores salaries of 2 departments."
   ]
  },
  {
   "cell_type": "code",
   "execution_count": 2,
   "id": "142c7d25-3c34-43f9-b426-36488156c926",
   "metadata": {},
   "outputs": [
    {
     "name": "stdout",
     "output_type": "stream",
     "text": [
      "[[80000 85000 90000 95000 92000]\n",
      " [70000 72000 75000 78000 76000]]\n"
     ]
    }
   ],
   "source": [
    "# Answer for Question 2\n",
    "\n",
    "import numpy as np\n",
    "engineering_salaries = [80000, 85000, 90000, 95000, 92000]\n",
    "marketing_salaries = [70000, 72000, 75000, 78000, 76000]\n",
    "total = [engineering_salaries, marketing_salaries]\n",
    "department_salaries = np.array(total)\n",
    "print(department_salaries)"
   ]
  },
  {
   "cell_type": "markdown",
   "id": "d3a2e621-297f-43ae-8121-2f65e7891494",
   "metadata": {},
   "source": [
    "#### Question 3\n",
    "\n",
    "Employee Number 3 from \"salary_array\" received a bonus of $5000. Update the salary of the 3rd employee in the \"salary_array\" and Print the results."
   ]
  },
  {
   "cell_type": "code",
   "execution_count": 3,
   "id": "86a10fce-a102-4f85-b09d-3df2cd00e73b",
   "metadata": {},
   "outputs": [
    {
     "name": "stdout",
     "output_type": "stream",
     "text": [
      "Updated Salary Array: [60000 75000 85000 90000 85000]\n"
     ]
    }
   ],
   "source": [
    "# Answer for Question 3\n",
    "\n",
    "import numpy as np\n",
    "list = [60000, 75000, 80000, 90000, 85000]\n",
    "salary_array = np.array(list)\n",
    "salary_array[2] = salary_array[2] + 5000\n",
    "print(\"Updated Salary Array:\", salary_array)"
   ]
  },
  {
   "cell_type": "markdown",
   "id": "6f2f26a7-c219-46a7-9583-e70685edaa44",
   "metadata": {},
   "source": [
    "#### Question 4\n",
    "\n",
    "Create a new NumPy array called \"new_hires\" to store their salaries and then concatenate it with the \"salary_array\" to update the company's salary data as \"updated_salary_array\". Print the msg \"Updated Salary Array:\" to match the expected output."
   ]
  },
  {
   "cell_type": "code",
   "execution_count": 4,
   "id": "56292aeb-a14a-4807-833f-f03cdc10bdd8",
   "metadata": {},
   "outputs": [
    {
     "name": "stdout",
     "output_type": "stream",
     "text": [
      "Updated Salary Array: [60000 75000 80000 90000 85000 72000 78000 76000]\n"
     ]
    }
   ],
   "source": [
    "# Answer for Question 4\n",
    "\n",
    "import numpy as np\n",
    "salary_array = np.array([60000, 75000, 80000, 90000, 85000])\n",
    "new_hires = np.array([72000, 78000, 76000])\n",
    "updated_salary_array = np.concatenate((salary_array, new_hires))\n",
    "print(\"Updated Salary Array:\", updated_salary_array)"
   ]
  },
  {
   "cell_type": "markdown",
   "id": "5aed7f5e-d79c-4aab-8477-3168d58d2f89",
   "metadata": {},
   "source": [
    "#### Question 5\n",
    "\n",
    "To organize the salary data, reshape the \"salary_array\" into a 2D array with two rows and four columns. Save the results in \"reshaped_salary_array\"."
   ]
  },
  {
   "cell_type": "code",
   "execution_count": 5,
   "id": "10afb77b-2d1e-4d7b-a1c6-cd92ce2839b7",
   "metadata": {},
   "outputs": [
    {
     "name": "stdout",
     "output_type": "stream",
     "text": [
      "Reshaped Salary Array: [[60000 75000 80000 90000]\n",
      " [85000 72000 78000 76000]]\n"
     ]
    }
   ],
   "source": [
    "# Answer for Question 5\n",
    "\n",
    "import numpy as np\n",
    "salary_array = np.array([60000, 75000, 80000, 90000, 85000, 72000, 78000, 76000])\n",
    "reshaped_salary_array = salary_array.reshape(2, 4)\n",
    "print(\"Reshaped Salary Array:\", reshaped_salary_array)"
   ]
  }
 ],
 "metadata": {
  "kernelspec": {
   "display_name": "Python 3 (ipykernel)",
   "language": "python",
   "name": "python3"
  },
  "language_info": {
   "codemirror_mode": {
    "name": "ipython",
    "version": 3
   },
   "file_extension": ".py",
   "mimetype": "text/x-python",
   "name": "python",
   "nbconvert_exporter": "python",
   "pygments_lexer": "ipython3",
   "version": "3.12.7"
  }
 },
 "nbformat": 4,
 "nbformat_minor": 5
}
